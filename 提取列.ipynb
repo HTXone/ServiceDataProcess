{
 "cells": [
  {
   "cell_type": "code",
   "execution_count": 1,
   "metadata": {
    "ExecuteTime": {
     "end_time": "2021-03-11T13:03:54.174723Z",
     "start_time": "2021-03-11T13:03:53.211122Z"
    }
   },
   "outputs": [],
   "source": [
    "import warnings\n",
    "warnings.filterwarnings('ignore')\n",
    "\n",
    "import pandas as pd\n",
    "import numpy as np"
   ]
  },
  {
   "cell_type": "code",
   "execution_count": 2,
   "metadata": {
    "ExecuteTime": {
     "end_time": "2021-03-11T13:03:56.204610Z",
     "start_time": "2021-03-11T13:03:54.175723Z"
    }
   },
   "outputs": [
    {
     "name": "stdout",
     "output_type": "stream",
     "text": [
      "(23432, 657)\n",
      "(6771, 657)\n"
     ]
    }
   ],
   "source": [
    "data = pd.read_csv('./dataset/train_data.csv',encoding='utf-8')\n",
    "data2 = pd.read_csv('./dataset/val_data.csv',encoding='utf-8')\n",
    "print(data.shape)\n",
    "print(data2.shape)\n",
    "#data.head()"
   ]
  },
  {
   "cell_type": "code",
   "execution_count": 3,
   "metadata": {
    "ExecuteTime": {
     "end_time": "2021-03-11T13:03:56.210124Z",
     "start_time": "2021-03-11T13:03:56.206607Z"
    }
   },
   "outputs": [
    {
     "name": "stdout",
     "output_type": "stream",
     "text": [
      "['pax_name', 'pax_passport', 'seg_route_to', 'seg_flight', 'seg_cabin', 'emd_lable', 'emd_lable2', 'gender', 'age', 'residence_country', 'nation_name', 'province_name', 'member_level', 'enroll_chnl', 'pref_aircraft_m3_1', 'pref_aircraft_m3_2', 'pref_aircraft_y3_1', 'pref_aircraft_y3_2', 'pref_aircraft_y3_3', 'pref_aircraft_y3_4', 'pref_aircraft_y3_5', 'pref_line_y3_1', 'pref_line_y3_2', 'pref_line_y3_3', 'pref_line_y3_4', 'pref_line_y3_5', 'pref_city_y3_1', 'pref_city_y3_2', 'pref_city_y3_3', 'pref_dest_city_y1', 'pref_dest_city_y2', 'pref_dest_city_y3', 'pit_add_chnl_y3', 'seat_walkway_cnt_y3', 'seat_window_cnt_y3', 'seat_middle_cnt_y3', 'avg_dist_cnt_y2', 'avg_dist_cnt_y3', 'flt_cnt_y3', 'flt_leg_i_cnt_y3', 'flt_leg_d_cnt_y3', 'mdl_mcv', 'tkt_avg_amt_y1', 'tkt_avg_amt_y2', 'tkt_avg_amt_y3']\n"
     ]
    }
   ],
   "source": [
    "str = \"\"\"pax_name\n",
    "pax_passport\n",
    "seg_route_to\n",
    "seg_flight\n",
    "seg_cabin\n",
    "emd_lable\n",
    "emd_lable2\n",
    "gender\n",
    "age\n",
    "residence_country\n",
    "nation_name\n",
    "province_name\n",
    "member_level\n",
    "enroll_chnl\n",
    "pref_aircraft_m3_1\n",
    "pref_aircraft_m3_2\n",
    "pref_aircraft_y3_1\n",
    "pref_aircraft_y3_2\n",
    "pref_aircraft_y3_3\n",
    "pref_aircraft_y3_4\n",
    "pref_aircraft_y3_5\n",
    "pref_line_y3_1\n",
    "pref_line_y3_2\n",
    "pref_line_y3_3\n",
    "pref_line_y3_4\n",
    "pref_line_y3_5\n",
    "pref_city_y3_1\n",
    "pref_city_y3_2\n",
    "pref_city_y3_3\n",
    "pref_dest_city_y1\n",
    "pref_dest_city_y2\n",
    "pref_dest_city_y3\n",
    "pit_add_chnl_y3\n",
    "seat_walkway_cnt_y3\n",
    "seat_window_cnt_y3\n",
    "seat_middle_cnt_y3\n",
    "avg_dist_cnt_y2\n",
    "avg_dist_cnt_y3\n",
    "flt_cnt_y3\n",
    "flt_leg_i_cnt_y3\n",
    "flt_leg_d_cnt_y3\n",
    "mdl_mcv\n",
    "tkt_avg_amt_y1\n",
    "tkt_avg_amt_y2\n",
    "tkt_avg_amt_y3\"\"\"\n",
    "\n",
    "list=str.split('\\n')\n",
    "print(list)"
   ]
  },
  {
   "cell_type": "code",
   "execution_count": 4,
   "metadata": {
    "ExecuteTime": {
     "end_time": "2021-03-11T13:03:56.255457Z",
     "start_time": "2021-03-11T13:03:56.211646Z"
    }
   },
   "outputs": [
    {
     "name": "stdout",
     "output_type": "stream",
     "text": [
      "(23432, 45)\n",
      "(6771, 45)\n"
     ]
    }
   ],
   "source": [
    "train_data = data[list]\n",
    "print(train_data.shape)\n",
    "val_data = data2[list]\n",
    "print(val_data.shape)"
   ]
  },
  {
   "cell_type": "code",
   "execution_count": 5,
   "metadata": {
    "ExecuteTime": {
     "end_time": "2021-03-11T13:03:56.896309Z",
     "start_time": "2021-03-11T13:03:56.257443Z"
    }
   },
   "outputs": [],
   "source": [
    "train_data.to_csv('train_data01.csv',index=False,encoding='utf_8_sig')\n",
    "val_data.to_csv('val_data01.csv',index=False,encoding='utf_8_sig')"
   ]
  },
  {
   "cell_type": "code",
   "execution_count": null,
   "metadata": {},
   "outputs": [],
   "source": []
  }
 ],
 "metadata": {
  "kernelspec": {
   "display_name": "Python 3",
   "language": "python",
   "name": "python3"
  },
  "language_info": {
   "codemirror_mode": {
    "name": "ipython",
    "version": 3
   },
   "file_extension": ".py",
   "mimetype": "text/x-python",
   "name": "python",
   "nbconvert_exporter": "python",
   "pygments_lexer": "ipython3",
   "version": "3.7.1"
  }
 },
 "nbformat": 4,
 "nbformat_minor": 2
}
